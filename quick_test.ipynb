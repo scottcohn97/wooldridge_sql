{
 "cells": [
  {
   "cell_type": "code",
   "execution_count": 1,
   "metadata": {},
   "outputs": [],
   "source": [
    "import sqlite3\n",
    "import pandas as pd "
   ]
  },
  {
   "cell_type": "code",
   "execution_count": 2,
   "metadata": {},
   "outputs": [],
   "source": [
    "# create connection\n",
    "conn = sqlite3.connect(\"wooldridge_files.db\")\n",
    "c = conn.cursor()"
   ]
  },
  {
   "cell_type": "code",
   "execution_count": 3,
   "metadata": {},
   "outputs": [
    {
     "name": "stdout",
     "output_type": "stream",
     "text": [
      "['Unnamed: 0', 'mnthborn', 'yearborn', 'age', 'electric', 'radio', 'tv', 'bicycle', 'educ', 'ceb', 'agefbrth', 'children', 'knowmeth', 'usemeth', 'monthfm', 'yearfm', 'agefm', 'idlnchld', 'heduc', 'agesq', 'urban', 'urb_educ', 'spirit', 'protest', 'catholic', 'frsthalf', 'educ0', 'evermarr']\n"
     ]
    }
   ],
   "source": [
    "# print column names for fertil2\n",
    "c.execute(\"SELECT * From fertil2\")\n",
    "# Using a list comprehension here\n",
    "names = [description[0] for description in c.description]\n",
    "print(names)"
   ]
  },
  {
   "cell_type": "code",
   "execution_count": null,
   "metadata": {},
   "outputs": [],
   "source": []
  }
 ],
 "metadata": {
  "kernelspec": {
   "display_name": "Python 3.7.5 64-bit ('base': conda)",
   "language": "python",
   "name": "python37564bitbasecondaea0f95d637f645cca86ec3bf64c9bccf"
  },
  "language_info": {
   "codemirror_mode": {
    "name": "ipython",
    "version": 3
   },
   "file_extension": ".py",
   "mimetype": "text/x-python",
   "name": "python",
   "nbconvert_exporter": "python",
   "pygments_lexer": "ipython3",
   "version": "3.7.5"
  }
 },
 "nbformat": 4,
 "nbformat_minor": 4
}
