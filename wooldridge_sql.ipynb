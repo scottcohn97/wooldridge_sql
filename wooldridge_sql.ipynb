{
 "cells": [
  {
   "cell_type": "markdown",
   "metadata": {},
   "source": [
    "## Convert Stata .dta files to SQL db"
   ]
  },
  {
   "cell_type": "code",
   "execution_count": 12,
   "metadata": {},
   "outputs": [],
   "source": [
    "import os\n",
    "import sqlite3\n",
    "import pandas as pd \n",
    "import shutil"
   ]
  },
  {
   "cell_type": "markdown",
   "metadata": {},
   "source": [
    "Convert `.dta` (stata files) to readable `.csv` files"
   ]
  },
  {
   "cell_type": "code",
   "execution_count": 2,
   "metadata": {},
   "outputs": [
    {
     "name": "stdout",
     "output_type": "stream",
     "text": [
      "Failed to convert 4 .dta files\n"
     ]
    }
   ],
   "source": [
    "# name directory\n",
    "directory = r'datasets_stata'\n",
    "new_dir = r'datasets_csv'\n",
    "\n",
    "fail_to_convert = 0\n",
    "# loop through directory\n",
    "for filename in os.listdir(directory):\n",
    "    # make filenames lowercase\n",
    "    os.rename(directory + '/' + filename, str(directory + '/' + filename).lower())\n",
    "    # identify .dta files\n",
    "    if filename.endswith(\".dta\"):\n",
    "        #print(filename)\n",
    "        try:\n",
    "            # convert file\n",
    "            file_dta = pd.io.stata.read_stata(directory + '/' + filename)\n",
    "            \n",
    "            # Create target Directory if don't exist\n",
    "            if not os.path.exists(new_dir):\n",
    "                os.mkdir(new_dir)\n",
    "                print(\"Directory \" , new_dir ,  \" Created \") # confirm created\n",
    "            else:    \n",
    "                #print(\"Directory \" , new_dir ,  \" already exists\") # confirm non-existence\n",
    "                pass \n",
    "                \n",
    "            # write csv to new directory\n",
    "            file_dta.to_csv(new_dir + '/' + filename.strip('.dta') + '.csv')\n",
    "        except: \n",
    "            # up failure-to-convert counter by 1\n",
    "            fail_to_convert += 1\n",
    "    # skip non- \".dta\" files    \n",
    "    else:\n",
    "        continue\n",
    "\n",
    "# print number of failed conversion files\n",
    "print(\"Failed to convert \" + str(fail_to_convert) + \" .dta files\")"
   ]
  },
  {
   "cell_type": "markdown",
   "metadata": {},
   "source": [
    "Convert `.csv` to `.sqlite`"
   ]
  },
  {
   "cell_type": "code",
   "execution_count": 3,
   "metadata": {},
   "outputs": [],
   "source": [
    "def create_connection(db_file):\n",
    "    \"\"\" create a database connection to the syllabus db \"\"\"\n",
    "    try:\n",
    "        conn = sqlite3.connect(db_file)\n",
    "        return conn\n",
    "    except Error as error:\n",
    "        print(error)"
   ]
  },
  {
   "cell_type": "code",
   "execution_count": 4,
   "metadata": {},
   "outputs": [],
   "source": [
    "wooldridge_files = ':memory:'\n",
    "conn = sqlite3.connect(\"wooldridge_files.db\")\n",
    "c = conn.cursor()"
   ]
  },
  {
   "cell_type": "code",
   "execution_count": 5,
   "metadata": {},
   "outputs": [],
   "source": [
    "def populate_table(csv_file, conn, table_name):\n",
    "    \"\"\" populates a db table with data from csv_file \"\"\"\n",
    "\n",
    "    csv_df = pd.read_csv(csv_file)\n",
    "    csv_df.to_sql(table_name, conn, if_exists=\"append\", index=False)"
   ]
  },
  {
   "cell_type": "code",
   "execution_count": 6,
   "metadata": {},
   "outputs": [
    {
     "name": "stderr",
     "output_type": "stream",
     "text": [
      "/opt/anaconda3/lib/python3.7/site-packages/pandas/core/generic.py:2712: UserWarning: The spaces in these column names will not be changed. In pandas versions < 0.14, spaces were converted to underscores.\n",
      "  method=method,\n"
     ]
    }
   ],
   "source": [
    "# populate the db using pandas\n",
    "\n",
    "# loop through directory\n",
    "for filename in os.listdir(new_dir):\n",
    "    # identify .csv files\n",
    "    if filename.endswith(\".csv\"):\n",
    "        populate_table(new_dir + '/' + filename, conn, filename.strip(\".csv\"))\n",
    "    else: \n",
    "        pass"
   ]
  },
  {
   "cell_type": "code",
   "execution_count": 7,
   "metadata": {},
   "outputs": [
    {
     "name": "stdout",
     "output_type": "stream",
     "text": [
      "pntspr\n",
      "atholi\n",
      "aving\n",
      "benefit\n",
      "minwage\n",
      "ps78_85\n",
      "bwgh\n",
      "kielm\n",
      "nbasal\n",
      "401ksub\n",
      "401k\n",
      "lawsch85\n",
      "phillip\n",
      "elem94_95\n",
      "ezander\n",
      "fish\n",
      "riving\n",
      "hprice3\n",
      "gpa1\n",
      "hprice2\n",
      "wagepan\n",
      "ensus2000\n",
      "prminwge\n",
      "onsump\n",
      "lowbrth\n",
      "injury\n",
      "gpa3\n",
      "nyse\n",
      "hprice1\n",
      "meapsingle\n",
      "fertil3\n",
      "beveridge\n",
      "meap93\n",
      "raffic1\n",
      "irfare\n",
      "engin\n",
      "leep75\n",
      "fertil2\n",
      "lp75_81\n",
      "raffic2\n",
      "iscrim\n",
      "jtrain\n",
      "fertil1\n",
      "moke\n",
      "oucher\n",
      "ar\n",
      "mroz\n",
      "ote1\n",
      "inven\n",
      "mathpnl\n",
      "pension\n",
      "lcohol\n",
      "prison\n",
      "mnre\n",
      "ote2\n",
      "ountymurder\n",
      "openne\n",
      "ampu\n",
      "expendshare\n",
      "en\n",
      "eosal2\n",
      "wagepr\n",
      "fringe\n",
      "udi\n",
      "ol\n",
      "barium\n",
      "rdchem\n",
      "eosal1\n",
      "intqr\n",
      "hsein\n",
      "happine\n",
      "wine\n",
      "rdtele\n",
      "wage1\n",
      "murder\n",
      "pple\n",
      "infmr\n",
      "jtrain3\n",
      "jtrain2\n",
      "ps91\n",
      "wage2\n",
      "intdef\n",
      "okun\n",
      "big9salary\n",
      "earn\n",
      "ffair\n",
      "rime3\n",
      "rime2\n",
      "beauty\n",
      "econmath\n",
      "ht\n",
      "rime1\n",
      "rental\n",
      "loanapp\n",
      "pproval\n",
      "harity\n",
      "rime4\n",
      "emen\n",
      "meap00_01\n",
      "hlet2\n",
      "orn\n",
      "woyear\n",
      "fair\n",
      "return\n",
      "mlb1\n",
      "hlet1\n",
      "bwght2\n",
      "ezanders 2\n",
      "fish 2\n"
     ]
    }
   ],
   "source": [
    "# find all tables names in the database\n",
    "c.execute(\"SELECT name FROM sqlite_master WHERE type='table'\")\n",
    "for name in c.fetchall():\n",
    "    print(name[0])"
   ]
  },
  {
   "cell_type": "code",
   "execution_count": 8,
   "metadata": {},
   "outputs": [],
   "source": [
    "# close SQL connection\n",
    "conn.close()"
   ]
  },
  {
   "cell_type": "code",
   "execution_count": 13,
   "metadata": {},
   "outputs": [],
   "source": [
    "# Can remove intermediate csv folder\n",
    "# shutil.rmtree(new_dir, ignore_errors=True)"
   ]
  },
  {
   "cell_type": "code",
   "execution_count": null,
   "metadata": {},
   "outputs": [],
   "source": []
  }
 ],
 "metadata": {
  "kernelspec": {
   "display_name": "Python 3.7.5 64-bit ('base': conda)",
   "language": "python",
   "name": "python37564bitbasecondaea0f95d637f645cca86ec3bf64c9bccf"
  },
  "language_info": {
   "codemirror_mode": {
    "name": "ipython",
    "version": 3
   },
   "file_extension": ".py",
   "mimetype": "text/x-python",
   "name": "python",
   "nbconvert_exporter": "python",
   "pygments_lexer": "ipython3",
   "version": "3.7.5"
  }
 },
 "nbformat": 4,
 "nbformat_minor": 4
}
